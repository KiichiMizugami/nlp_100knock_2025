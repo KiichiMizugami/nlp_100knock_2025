{
 "cells": [
  {
   "cell_type": "markdown",
   "id": "73defe1e-b872-4b20-a1a4-f8f333098682",
   "metadata": {},
   "source": [
    "# 第4章: 言語解析\n",
    "問題30から問題35までは、以下の文章`text`（太宰治の『走れメロス』の冒頭部分）に対して、言語解析を実施せよ。問題36から問題39までは、国家を説明した文書群（日本語版ウィキペディア記事から抽出したテキスト群）をコーパスとして、言語解析を実施せよ。\n",
    "```\n",
    "text = \"\"\"\n",
    "メロスは激怒した。\n",
    "必ず、かの邪智暴虐の王を除かなければならぬと決意した。\n",
    "メロスには政治がわからぬ。\n",
    "メロスは、村の牧人である。\n",
    "笛を吹き、羊と遊んで暮して来た。\n",
    "けれども邪悪に対しては、人一倍に敏感であった。\n",
    "\"\"\""
   ]
  },
  {
   "cell_type": "markdown",
   "id": "845094b1-017f-4d56-bffd-a13a8802f8eb",
   "metadata": {},
   "source": [
    "# 30. 動詞\n",
    "文章`text`に含まれる動詞をすべて表示せよ。"
   ]
  },
  {
   "cell_type": "code",
   "execution_count": null,
   "id": "d152dc00-7d8f-4d2d-8ae0-b0205f2644df",
   "metadata": {},
   "outputs": [],
   "source": []
  },
  {
   "cell_type": "markdown",
   "id": "2bbf4991-ce6d-4296-b3a3-df7b2487290f",
   "metadata": {},
   "source": [
    "# 31. 動詞の原型\n",
    "文章`text`に含まれる動詞と、その原型をすべて表示せよ。"
   ]
  },
  {
   "cell_type": "code",
   "execution_count": null,
   "id": "3e50d080-5c60-4abb-a685-ad9b6f7fbb88",
   "metadata": {},
   "outputs": [],
   "source": []
  },
  {
   "cell_type": "markdown",
   "id": "44b81c7b-654c-4d71-9fdd-cadf3e666687",
   "metadata": {},
   "source": [
    "# 32. 「AのB」\n",
    "文章`text`において、2つの名詞が「の」で連結されている名詞句をすべて抽出せよ。"
   ]
  },
  {
   "cell_type": "code",
   "execution_count": null,
   "id": "a69fe306-8448-43c6-98da-ecec0a25e90e",
   "metadata": {},
   "outputs": [],
   "source": []
  },
  {
   "cell_type": "markdown",
   "id": "27ae1b79-d77f-47eb-ae9d-d2bc294854cd",
   "metadata": {},
   "source": [
    "# 33. 係り受け解析\n",
    "文章`text`に係り受け解析を適用し、係り元と係り先のトークン（形態素や文節などの単位）をタブ区切り形式ですべて抽出せよ。"
   ]
  },
  {
   "cell_type": "code",
   "execution_count": null,
   "id": "24aa7c11-60ad-44cc-ac0f-40c052f19101",
   "metadata": {},
   "outputs": [],
   "source": []
  },
  {
   "cell_type": "markdown",
   "id": "978520b2-ba0c-4e29-be6c-4ee205dec5e2",
   "metadata": {},
   "source": [
    "# 34. 主述の関係\n",
    "文章`text`において、「メロス」が主語であるときの述語を抽出せよ。"
   ]
  },
  {
   "cell_type": "code",
   "execution_count": null,
   "id": "bb1a46f8-0fe3-4548-b96c-da09dcc5ca11",
   "metadata": {},
   "outputs": [],
   "source": []
  },
  {
   "cell_type": "markdown",
   "id": "3c48a1d3-d9eb-454b-a9e6-7d06a4806e3a",
   "metadata": {},
   "source": [
    "# 35. 係り受け木\n",
    "「メロスは激怒した。」の係り受け木を可視化せよ。"
   ]
  },
  {
   "cell_type": "code",
   "execution_count": null,
   "id": "47437e89-e9b4-4b72-8d89-a531df87eb91",
   "metadata": {},
   "outputs": [],
   "source": []
  },
  {
   "cell_type": "markdown",
   "id": "d74375c0-8f7f-4eab-812f-675a4c874790",
   "metadata": {},
   "source": [
    "# 36. 単語の出現頻度\n",
    "問題36から39までは、Wikipediaの記事を以下のフォーマットで書き出したファイル[jawiki-country.json.gz](https://nlp100.github.io/2025/_downloads/ca47e7baf341469cd7b585f97496c020/jawiki-country.json.gz)をコーパスと見なし、統計的な分析を行う。\n",
    "\n",
    " 1行に1記事の情報がJSON形式で格納される\n",
    "\n",
    "各行には記事名が”title”キーに、記事本文が”text”キーの辞書オブジェクトに格納され、そのオブジェクトがJSON形式で書き出される\n",
    "\n",
    "ファイル全体はgzipで圧縮される\n",
    "\n",
    "まず、第3章の処理内容を参考に、Wikipedia記事からマークアップを除去し、各記事のテキストを抽出せよ。そして、コーパスにおける単語（形態素）の出現頻度を求め、出現頻度の高い20語とその出現頻度を表示せよ。"
   ]
  }
 ],
 "metadata": {
  "kernelspec": {
   "display_name": "Python 3 (ipykernel)",
   "language": "python",
   "name": "python3"
  },
  "language_info": {
   "codemirror_mode": {
    "name": "ipython",
    "version": 3
   },
   "file_extension": ".py",
   "mimetype": "text/x-python",
   "name": "python",
   "nbconvert_exporter": "python",
   "pygments_lexer": "ipython3",
   "version": "3.10.5"
  }
 },
 "nbformat": 4,
 "nbformat_minor": 5
}
