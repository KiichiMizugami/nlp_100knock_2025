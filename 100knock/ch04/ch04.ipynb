{
 "cells": [
  {
   "cell_type": "markdown",
   "id": "73defe1e-b872-4b20-a1a4-f8f333098682",
   "metadata": {},
   "source": [
    "# 第4章: 言語解析\n",
    "問題30から問題35までは、以下の文章`text`（太宰治の『走れメロス』の冒頭部分）に対して、言語解析を実施せよ。問題36から問題39までは、国家を説明した文書群（日本語版ウィキペディア記事から抽出したテキスト群）をコーパスとして、言語解析を実施せよ。\n",
    "```\n",
    "text = \"\"\"\n",
    "メロスは激怒した。\n",
    "必ず、かの邪智暴虐の王を除かなければならぬと決意した。\n",
    "メロスには政治がわからぬ。\n",
    "メロスは、村の牧人である。\n",
    "笛を吹き、羊と遊んで暮して来た。\n",
    "けれども邪悪に対しては、人一倍に敏感であった。\n",
    "\"\"\""
   ]
  },
  {
   "cell_type": "code",
   "execution_count": 5,
   "id": "099a5f9f-7625-45c7-aae6-b106bcb0f310",
   "metadata": {},
   "outputs": [
    {
     "name": "stdout",
     "output_type": "stream",
     "text": [
      "\u001b[34m==>\u001b[0m \u001b[1mAuto-updating Homebrew...\u001b[0m\n",
      "Adjust how often this is run with `$HOMEBREW_AUTO_UPDATE_SECS` or disable with\n",
      "`$HOMEBREW_NO_AUTO_UPDATE=1`. Hide these hints with `$HOMEBREW_NO_ENV_HINTS=1` (see `man brew`).\n",
      "\u001b[34m==>\u001b[0m \u001b[1mAuto-updated Homebrew!\u001b[0m\n",
      "Updated 2 taps (homebrew/core and homebrew/cask).\n",
      "\u001b[34m==>\u001b[0m \u001b[1mNew Formulae\u001b[0m\n",
      "attempt-cli: CLI for retrying fallible commands\n",
      "bedtk: Simple toolset for BED files\n",
      "claude-cmd: Claude Code Commands Manager\n",
      "claude-hooks: Hook system for Claude Code\n",
      "dash-mpd-cli: Download media content from a DASH-MPEG or DASH-WebM MPD manifest\n",
      "fjira: Fuzzy-find cli jira interface\n",
      "komac: Community Manifest Creator for Windows Package Manager (WinGet)\n",
      "mcp-server-kubernetes: MCP Server for kubernetes management commands\n",
      "oatpp: Light and powerful C++ web framework\n",
      "opencode: AI coding agent, built for the terminal\n",
      "terratag: CLI to automate tagging for AWS, Azure & GCP resources in Terraform\n",
      "tweakcc: Customize your Claude Code themes, thinking verbs, and more\n",
      "wal-g: Archival restoration tool for databases\n",
      "\u001b[34m==>\u001b[0m \u001b[1mNew Casks\u001b[0m\n",
      "alfred@prerelease: Application launcher and productivity software\n",
      "defguard-client: WireGuard VPN client which supports multi-factor authentication\n",
      "devknife: Collection of handy developer tools\n",
      "drawpen: Screen annotation tool\n",
      "frame0: Wireframing tool\n",
      "itermbrowserplugin: Enables an integrated web browser in iTerm2\n",
      "overview: Create live window previews for any application\n",
      "pimosa: Photo, video, music and pdf editing tools\n",
      "\n",
      "You have \u001b[1m22\u001b[0m outdated formulae installed.\n",
      "\n",
      "\u001b[33mWarning:\u001b[0m mecab 0.996 is already installed and up-to-date.\n",
      "To reinstall 0.996, run:\n",
      "  brew reinstall mecab\n",
      "\u001b[33mWarning:\u001b[0m mecab-ipadic 2.7.0-20070801 is already installed and up-to-date.\n",
      "To reinstall 2.7.0-20070801, run:\n",
      "  brew reinstall mecab-ipadic\n"
     ]
    }
   ],
   "source": [
    "!brew install mecab\n",
    "!brew install mecab-ipadic"
   ]
  },
  {
   "cell_type": "code",
   "execution_count": 6,
   "id": "76809828-0e85-4180-ba63-a53353c6f877",
   "metadata": {},
   "outputs": [
    {
     "name": "stdout",
     "output_type": "stream",
     "text": [
      "Requirement already satisfied: MeCab-Python3 in /Users/mizukamikiichi/.pyenv/versions/3.10.5/lib/python3.10/site-packages (1.0.10)\n",
      "\n",
      "\u001b[1m[\u001b[0m\u001b[34;49mnotice\u001b[0m\u001b[1;39;49m]\u001b[0m\u001b[39;49m A new release of pip is available: \u001b[0m\u001b[31;49m24.0\u001b[0m\u001b[39;49m -> \u001b[0m\u001b[32;49m25.2\u001b[0m\n",
      "\u001b[1m[\u001b[0m\u001b[34;49mnotice\u001b[0m\u001b[1;39;49m]\u001b[0m\u001b[39;49m To update, run: \u001b[0m\u001b[32;49mpip install --upgrade pip\u001b[0m\n"
     ]
    }
   ],
   "source": [
    "!pip install MeCab-Python3"
   ]
  },
  {
   "cell_type": "markdown",
   "id": "845094b1-017f-4d56-bffd-a13a8802f8eb",
   "metadata": {},
   "source": [
    "# 30. 動詞\n",
    "文章`text`に含まれる動詞をすべて表示せよ。"
   ]
  },
  {
   "cell_type": "code",
   "execution_count": 2,
   "id": "d152dc00-7d8f-4d2d-8ae0-b0205f2644df",
   "metadata": {},
   "outputs": [],
   "source": [
    "text = \"\"\"メロスは激怒した。\n",
    "必ず、かの邪智暴虐の王を除かなければならぬと決意した。\n",
    "メロスには政治がわからぬ。\n",
    "メロスは、村の牧人である。\n",
    "笛を吹き、羊と遊んで暮して来た。\n",
    "けれども邪悪に対しては、人一倍に敏感であった。\"\"\""
   ]
  },
  {
   "cell_type": "code",
   "execution_count": 13,
   "id": "b7e24c71-867e-40a2-ae21-f9be2ab65f68",
   "metadata": {},
   "outputs": [
    {
     "data": {
      "text/plain": [
       "[{'surface': 'メロス', 'base': '*', 'pos': '名詞', 'pos[1]': '一般'},\n",
       " {'surface': 'は', 'base': 'は', 'pos': '助詞', 'pos[1]': '係助詞'},\n",
       " {'surface': '激怒', 'base': '激怒', 'pos': '名詞', 'pos[1]': 'サ変接続'},\n",
       " {'surface': 'し', 'base': 'する', 'pos': '動詞', 'pos[1]': '自立'},\n",
       " {'surface': 'た', 'base': 'た', 'pos': '助動詞', 'pos[1]': '*'},\n",
       " {'surface': '。', 'base': '。', 'pos': '記号', 'pos[1]': '句点'},\n",
       " {'surface': '必ず', 'base': '必ず', 'pos': '副詞', 'pos[1]': '助詞類接続'},\n",
       " {'surface': '、', 'base': '、', 'pos': '記号', 'pos[1]': '読点'},\n",
       " {'surface': 'かの', 'base': 'かの', 'pos': '連体詞', 'pos[1]': '*'},\n",
       " {'surface': '邪智', 'base': '邪智', 'pos': '名詞', 'pos[1]': '一般'},\n",
       " {'surface': '暴虐', 'base': '暴虐', 'pos': '名詞', 'pos[1]': '一般'},\n",
       " {'surface': 'の', 'base': 'の', 'pos': '助詞', 'pos[1]': '連体化'},\n",
       " {'surface': '王', 'base': '王', 'pos': '名詞', 'pos[1]': '一般'},\n",
       " {'surface': 'を', 'base': 'を', 'pos': '助詞', 'pos[1]': '格助詞'},\n",
       " {'surface': '除か', 'base': '除く', 'pos': '動詞', 'pos[1]': '自立'},\n",
       " {'surface': 'なけれ', 'base': 'ない', 'pos': '助動詞', 'pos[1]': '*'},\n",
       " {'surface': 'ば', 'base': 'ば', 'pos': '助詞', 'pos[1]': '接続助詞'},\n",
       " {'surface': 'なら', 'base': 'なる', 'pos': '動詞', 'pos[1]': '非自立'},\n",
       " {'surface': 'ぬ', 'base': 'ぬ', 'pos': '助動詞', 'pos[1]': '*'},\n",
       " {'surface': 'と', 'base': 'と', 'pos': '助詞', 'pos[1]': '格助詞'},\n",
       " {'surface': '決意', 'base': '決意', 'pos': '名詞', 'pos[1]': 'サ変接続'},\n",
       " {'surface': 'し', 'base': 'する', 'pos': '動詞', 'pos[1]': '自立'},\n",
       " {'surface': 'た', 'base': 'た', 'pos': '助動詞', 'pos[1]': '*'},\n",
       " {'surface': '。', 'base': '。', 'pos': '記号', 'pos[1]': '句点'},\n",
       " {'surface': 'メロス', 'base': '*', 'pos': '名詞', 'pos[1]': '一般'},\n",
       " {'surface': 'に', 'base': 'に', 'pos': '助詞', 'pos[1]': '格助詞'},\n",
       " {'surface': 'は', 'base': 'は', 'pos': '助詞', 'pos[1]': '係助詞'},\n",
       " {'surface': '政治', 'base': '政治', 'pos': '名詞', 'pos[1]': '一般'},\n",
       " {'surface': 'が', 'base': 'が', 'pos': '助詞', 'pos[1]': '格助詞'},\n",
       " {'surface': 'わから', 'base': 'わかる', 'pos': '動詞', 'pos[1]': '自立'},\n",
       " {'surface': 'ぬ', 'base': 'ぬ', 'pos': '助動詞', 'pos[1]': '*'},\n",
       " {'surface': '。', 'base': '。', 'pos': '記号', 'pos[1]': '句点'},\n",
       " {'surface': 'メロス', 'base': '*', 'pos': '名詞', 'pos[1]': '一般'},\n",
       " {'surface': 'は', 'base': 'は', 'pos': '助詞', 'pos[1]': '係助詞'},\n",
       " {'surface': '、', 'base': '、', 'pos': '記号', 'pos[1]': '読点'},\n",
       " {'surface': '村', 'base': '村', 'pos': '名詞', 'pos[1]': '一般'},\n",
       " {'surface': 'の', 'base': 'の', 'pos': '助詞', 'pos[1]': '連体化'},\n",
       " {'surface': '牧人', 'base': '牧人', 'pos': '名詞', 'pos[1]': '一般'},\n",
       " {'surface': 'で', 'base': 'だ', 'pos': '助動詞', 'pos[1]': '*'},\n",
       " {'surface': 'ある', 'base': 'ある', 'pos': '助動詞', 'pos[1]': '*'},\n",
       " {'surface': '。', 'base': '。', 'pos': '記号', 'pos[1]': '句点'},\n",
       " {'surface': '笛', 'base': '笛', 'pos': '名詞', 'pos[1]': '一般'},\n",
       " {'surface': 'を', 'base': 'を', 'pos': '助詞', 'pos[1]': '格助詞'},\n",
       " {'surface': '吹き', 'base': '吹く', 'pos': '動詞', 'pos[1]': '自立'},\n",
       " {'surface': '、', 'base': '、', 'pos': '記号', 'pos[1]': '読点'},\n",
       " {'surface': '羊', 'base': '羊', 'pos': '名詞', 'pos[1]': '一般'},\n",
       " {'surface': 'と', 'base': 'と', 'pos': '助詞', 'pos[1]': '格助詞'},\n",
       " {'surface': '遊ん', 'base': '遊ぶ', 'pos': '動詞', 'pos[1]': '自立'},\n",
       " {'surface': 'で', 'base': 'で', 'pos': '助詞', 'pos[1]': '接続助詞'},\n",
       " {'surface': '暮し', 'base': '暮す', 'pos': '動詞', 'pos[1]': '自立'},\n",
       " {'surface': 'て', 'base': 'て', 'pos': '助詞', 'pos[1]': '接続助詞'},\n",
       " {'surface': '来', 'base': '来る', 'pos': '動詞', 'pos[1]': '非自立'},\n",
       " {'surface': 'た', 'base': 'た', 'pos': '助動詞', 'pos[1]': '*'},\n",
       " {'surface': '。', 'base': '。', 'pos': '記号', 'pos[1]': '句点'},\n",
       " {'surface': 'けれども', 'base': 'けれども', 'pos': '接続詞', 'pos[1]': '*'},\n",
       " {'surface': '邪悪', 'base': '邪悪', 'pos': '名詞', 'pos[1]': '形容動詞語幹'},\n",
       " {'surface': 'に対して', 'base': 'に対して', 'pos': '助詞', 'pos[1]': '格助詞'},\n",
       " {'surface': 'は', 'base': 'は', 'pos': '助詞', 'pos[1]': '係助詞'},\n",
       " {'surface': '、', 'base': '、', 'pos': '記号', 'pos[1]': '読点'},\n",
       " {'surface': '人一倍', 'base': '人一倍', 'pos': '名詞', 'pos[1]': '形容動詞語幹'},\n",
       " {'surface': 'に', 'base': 'に', 'pos': '助詞', 'pos[1]': '副詞化'},\n",
       " {'surface': '敏感', 'base': '敏感', 'pos': '名詞', 'pos[1]': '形容動詞語幹'},\n",
       " {'surface': 'で', 'base': 'だ', 'pos': '助動詞', 'pos[1]': '*'},\n",
       " {'surface': 'あっ', 'base': 'ある', 'pos': '助動詞', 'pos[1]': '*'},\n",
       " {'surface': 'た', 'base': 'た', 'pos': '助動詞', 'pos[1]': '*'},\n",
       " {'surface': '。', 'base': '。', 'pos': '記号', 'pos[1]': '句点'}]"
      ]
     },
     "execution_count": 13,
     "metadata": {},
     "output_type": "execute_result"
    }
   ],
   "source": [
    "import MeCab\n",
    "\n",
    "mecab = MeCab.Tagger()\n",
    "parsed = mecab.parse(text)\n",
    "\n",
    "mecab_list = []\n",
    "for line in parsed.split(\"\\n\"):\n",
    "    a_word = line.strip().split(\"\\t\")\n",
    "    if len(a_word) == 1 and a_word[0] == \"EOS\":\n",
    "        break\n",
    "    elif len(a_word) == 2:\n",
    "        right_side = a_word[1].split(\",\")\n",
    "        if len(right_side) > 6:\n",
    "            mecab_list.append({\n",
    "                \"surface\": a_word[0],\n",
    "                \"base\": right_side[6],\n",
    "                \"pos\": right_side[0],\n",
    "                \"pos[1]\": right_side[1]\n",
    "            })\n",
    "\n",
    "mecab_list"
   ]
  },
  {
   "cell_type": "code",
   "execution_count": 16,
   "id": "06775107-14e9-4871-85e1-723d18175054",
   "metadata": {},
   "outputs": [
    {
     "data": {
      "text/plain": [
       "['し', '除か', 'なら', 'し', 'わから', '吹き', '遊ん', '暮し', '来']"
      ]
     },
     "execution_count": 16,
     "metadata": {},
     "output_type": "execute_result"
    }
   ],
   "source": [
    "verb_list = []\n",
    "\n",
    "for item in mecab_list:\n",
    "    if item[\"pos\"] == \"動詞\":\n",
    "        verb_list.append(item[\"surface\"])\n",
    "verb_list"
   ]
  },
  {
   "cell_type": "markdown",
   "id": "2bbf4991-ce6d-4296-b3a3-df7b2487290f",
   "metadata": {},
   "source": [
    "# 31. 動詞の原型\n",
    "文章`text`に含まれる動詞と、その原型をすべて表示せよ。"
   ]
  },
  {
   "cell_type": "code",
   "execution_count": 19,
   "id": "3e50d080-5c60-4abb-a685-ad9b6f7fbb88",
   "metadata": {},
   "outputs": [
    {
     "data": {
      "text/plain": [
       "[{'surface': 'し', 'base': 'する'},\n",
       " {'surface': '除か', 'base': '除く'},\n",
       " {'surface': 'なら', 'base': 'なる'},\n",
       " {'surface': 'し', 'base': 'する'},\n",
       " {'surface': 'わから', 'base': 'わかる'},\n",
       " {'surface': '吹き', 'base': '吹く'},\n",
       " {'surface': '遊ん', 'base': '遊ぶ'},\n",
       " {'surface': '暮し', 'base': '暮す'},\n",
       " {'surface': '来', 'base': '来る'}]"
      ]
     },
     "execution_count": 19,
     "metadata": {},
     "output_type": "execute_result"
    }
   ],
   "source": [
    "verb_base_list = []\n",
    "\n",
    "for item in mecab_list:\n",
    "    if item[\"pos\"] == \"動詞\":\n",
    "        verb_base_list.append({\"surface\" : item[\"surface\"], \"base\" : item[\"base\"]})\n",
    "verb_base_list"
   ]
  },
  {
   "cell_type": "markdown",
   "id": "44b81c7b-654c-4d71-9fdd-cadf3e666687",
   "metadata": {},
   "source": [
    "# 32. 「AのB」\n",
    "文章`text`において、2つの名詞が「の」で連結されている名詞句をすべて抽出せよ。"
   ]
  },
  {
   "cell_type": "code",
   "execution_count": 21,
   "id": "a69fe306-8448-43c6-98da-ecec0a25e90e",
   "metadata": {},
   "outputs": [
    {
     "data": {
      "text/plain": [
       "{'暴虐の王', '村の牧人'}"
      ]
     },
     "execution_count": 21,
     "metadata": {},
     "output_type": "execute_result"
    }
   ],
   "source": [
    "result = set()\n",
    "\n",
    "for sentence in mecab_map:\n",
    "    for i in range(len(sentence)-2):\n",
    "        adjacent_morphs = sentence[i:i+3]\n",
    "        if (adjacent_morphs[0][\"pos\"] == adjacent_morphs[2][\"pos\"] == \"名詞\") \\\n",
    "            and adjacent_morphs[1][\"surface\"] == \"の\": \n",
    "            connected_noun = \"\".join(map(lambda x:x[\"surface\"], adjacent_morphs))\n",
    "            result.add(connected_noun)\n",
    "\n",
    "result"
   ]
  },
  {
   "cell_type": "markdown",
   "id": "27ae1b79-d77f-47eb-ae9d-d2bc294854cd",
   "metadata": {},
   "source": [
    "# 33. 係り受け解析\n",
    "文章`text`に係り受け解析を適用し、係り元と係り先のトークン（形態素や文節などの単位）をタブ区切り形式ですべて抽出せよ。"
   ]
  },
  {
   "cell_type": "code",
   "execution_count": 24,
   "id": "24aa7c11-60ad-44cc-ac0f-40c052f19101",
   "metadata": {},
   "outputs": [
    {
     "name": "stdout",
     "output_type": "stream",
     "text": [
      "\u001b[33mWarning:\u001b[0m cabocha 0.69 is already installed and up-to-date.\n",
      "To reinstall 0.69, run:\n",
      "  brew reinstall cabocha\n",
      "Requirement already satisfied: cabocha-python in /Users/mizukamikiichi/.pyenv/versions/3.10.5/lib/python3.10/site-packages (0.69.3)\n",
      "Requirement already satisfied: python-config in /Users/mizukamikiichi/.pyenv/versions/3.10.5/lib/python3.10/site-packages (from cabocha-python) (0.1.2)\n",
      "\n",
      "\u001b[1m[\u001b[0m\u001b[34;49mnotice\u001b[0m\u001b[1;39;49m]\u001b[0m\u001b[39;49m A new release of pip is available: \u001b[0m\u001b[31;49m24.0\u001b[0m\u001b[39;49m -> \u001b[0m\u001b[32;49m25.2\u001b[0m\n",
      "\u001b[1m[\u001b[0m\u001b[34;49mnotice\u001b[0m\u001b[1;39;49m]\u001b[0m\u001b[39;49m To update, run: \u001b[0m\u001b[32;49mpip install --upgrade pip\u001b[0m\n"
     ]
    }
   ],
   "source": [
    "!brew install cabocha\n",
    "!pip install cabocha-python"
   ]
  },
  {
   "cell_type": "code",
   "execution_count": 31,
   "id": "e265eca2-0996-4b4f-9420-bd6da6c80742",
   "metadata": {},
   "outputs": [
    {
     "name": "stdout",
     "output_type": "stream",
     "text": [
      "メロスは \t 激怒した\n",
      "必ず、 \t 決意した\n",
      "かの \t 邪智暴虐の\n",
      "邪智暴虐の \t 王を\n",
      "王を \t 除かなければならぬと\n",
      "除かなければならぬと \t 決意した\n",
      "メロスには \t わからぬ\n",
      "政治が \t わからぬ\n",
      "メロスは、 \t 牧人である\n",
      "村の \t 牧人である\n",
      "笛を \t 吹き、\n",
      "吹き、 \t 暮して来た\n",
      "羊と \t 遊んで\n",
      "遊んで \t 暮して来た\n",
      "けれども \t 敏感であった\n",
      "邪悪に対しては、 \t 敏感であった\n",
      "人一倍に \t 敏感であった\n"
     ]
    }
   ],
   "source": [
    "import CaboCha\n",
    "\n",
    "c = CaboCha.Parser()\n",
    "\n",
    "dep_list = []  \n",
    "\n",
    "for sentence in text.split(\"。\"):\n",
    "    sentence = sentence.strip()\n",
    "    if not sentence:\n",
    "        continue\n",
    "    tree = c.parse(sentence)\n",
    "\n",
    "    for i in range(tree.size()):\n",
    "        token = tree.token(i)\n",
    "        chunk = token.chunk\n",
    "        if chunk:\n",
    "            if chunk.link >= 0:  \n",
    "                src = \"\".join([tree.token(k).surface for k in range(chunk.token_pos, chunk.token_pos + chunk.token_size)])\n",
    "                dst_chunk = tree.chunk(chunk.link)\n",
    "                dst = \"\".join([tree.token(k).surface for k in range(dst_chunk.token_pos, dst_chunk.token_pos + dst_chunk.token_size)])\n",
    "                dep_list.append([src, dst])\n",
    "\n",
    "for pair in dep_list:\n",
    "    print(pair[0], \"\\t\", pair[1])"
   ]
  },
  {
   "cell_type": "markdown",
   "id": "978520b2-ba0c-4e29-be6c-4ee205dec5e2",
   "metadata": {},
   "source": [
    "# 34. 主述の関係\n",
    "文章`text`において、「メロス」が主語であるときの述語を抽出せよ。"
   ]
  },
  {
   "cell_type": "code",
   "execution_count": 35,
   "id": "fa5c67af-88d9-4e23-b678-592367e3e1e4",
   "metadata": {},
   "outputs": [
    {
     "name": "stdout",
     "output_type": "stream",
     "text": [
      "['激怒した', 'わからぬ']\n"
     ]
    }
   ],
   "source": [
    "import MeCab\n",
    "\n",
    "m = MeCab.Tagger()\n",
    "\n",
    "predicates = []\n",
    "\n",
    "for src, dst in dep_list:\n",
    "    if \"メロス\" in src:\n",
    "        if src.endswith(\"は\") or src.endswith(\"が\"):\n",
    "            node = m.parseToNode(dst)\n",
    "            has_verb = False\n",
    "            while node:\n",
    "                features = node.feature.split(\",\")\n",
    "                if features[0] == \"動詞\":\n",
    "                    has_verb = True\n",
    "                    break\n",
    "                node = node.next\n",
    "            if has_verb:\n",
    "                predicates.append(dst)\n",
    "\n",
    "print(predicates)"
   ]
  },
  {
   "cell_type": "markdown",
   "id": "3c48a1d3-d9eb-454b-a9e6-7d06a4806e3a",
   "metadata": {},
   "source": [
    "# 35. 係り受け木\n",
    "「メロスは激怒した。」の係り受け木を可視化せよ。"
   ]
  },
  {
   "cell_type": "code",
   "execution_count": null,
   "id": "47437e89-e9b4-4b72-8d89-a531df87eb91",
   "metadata": {},
   "outputs": [],
   "source": []
  },
  {
   "cell_type": "markdown",
   "id": "d74375c0-8f7f-4eab-812f-675a4c874790",
   "metadata": {},
   "source": [
    "# 36. 単語の出現頻度\n",
    "問題36から39までは、Wikipediaの記事を以下のフォーマットで書き出したファイル[jawiki-country.json.gz](https://nlp100.github.io/2025/_downloads/ca47e7baf341469cd7b585f97496c020/jawiki-country.json.gz)をコーパスと見なし、統計的な分析を行う。\n",
    "\n",
    " 1行に1記事の情報がJSON形式で格納される\n",
    "\n",
    "各行には記事名が”title”キーに、記事本文が”text”キーの辞書オブジェクトに格納され、そのオブジェクトがJSON形式で書き出される\n",
    "\n",
    "ファイル全体はgzipで圧縮される\n",
    "\n",
    "まず、第3章の処理内容を参考に、Wikipedia記事からマークアップを除去し、各記事のテキストを抽出せよ。そして、コーパスにおける単語（形態素）の出現頻度を求め、出現頻度の高い20語とその出現頻度を表示せよ。"
   ]
  },
  {
   "cell_type": "code",
   "execution_count": null,
   "id": "72b55ba5-ee1c-4ca7-95a4-efd29a73887f",
   "metadata": {},
   "outputs": [],
   "source": []
  },
  {
   "cell_type": "code",
   "execution_count": null,
   "id": "741a87c6-5262-4e63-a085-c14a7523ac07",
   "metadata": {},
   "outputs": [],
   "source": []
  },
  {
   "cell_type": "code",
   "execution_count": null,
   "id": "f13b4496-7a13-431a-a987-ca0d4369095a",
   "metadata": {},
   "outputs": [],
   "source": []
  },
  {
   "cell_type": "code",
   "execution_count": null,
   "id": "dca13a47-e768-4a03-a0fa-66f86979dcb4",
   "metadata": {},
   "outputs": [],
   "source": []
  },
  {
   "cell_type": "code",
   "execution_count": null,
   "id": "56fac3c4-3263-43c8-b051-87ce2503b011",
   "metadata": {},
   "outputs": [],
   "source": []
  },
  {
   "cell_type": "code",
   "execution_count": null,
   "id": "19aa8d16-26c5-4fed-8a90-e9f9c025a825",
   "metadata": {},
   "outputs": [],
   "source": []
  },
  {
   "cell_type": "code",
   "execution_count": null,
   "id": "78794969-215f-4937-96d9-2262b22fd8a2",
   "metadata": {},
   "outputs": [],
   "source": []
  },
  {
   "cell_type": "code",
   "execution_count": null,
   "id": "8466bde0-e10e-4158-bf58-a111adadf457",
   "metadata": {},
   "outputs": [],
   "source": []
  },
  {
   "cell_type": "code",
   "execution_count": null,
   "id": "97e9be64-8d24-435f-a60e-7b414a0242ee",
   "metadata": {},
   "outputs": [],
   "source": []
  }
 ],
 "metadata": {
  "kernelspec": {
   "display_name": "Python 3 (ipykernel)",
   "language": "python",
   "name": "python3"
  },
  "language_info": {
   "codemirror_mode": {
    "name": "ipython",
    "version": 3
   },
   "file_extension": ".py",
   "mimetype": "text/x-python",
   "name": "python",
   "nbconvert_exporter": "python",
   "pygments_lexer": "ipython3",
   "version": "3.10.5"
  }
 },
 "nbformat": 4,
 "nbformat_minor": 5
}
