{
 "cells": [
  {
   "cell_type": "markdown",
   "id": "c285f0a0-139a-4ab9-b36c-70249592cf51",
   "metadata": {},
   "source": [
    "# 第2章: UNIXコマンド\n",
    "[popular-names.txt](https://nlp100.github.io/2025/_downloads/2ed3eac2611f4363de406df0a49805ae/popular-names.txt)は、アメリカで生まれた赤ちゃんの「名前」「性別」「人数」「年」をタブ区切り形式で格納したファイルである。以下の処理を行うプログラムを作成し、[popular-names.txt](https://nlp100.github.io/2025/_downloads/2ed3eac2611f4363de406df0a49805ae/popular-names.txt)を入力ファイルとして実行せよ。さらに、同様の処理をUNIXコマンドでも実行し、プログラムの実行結果を確認せよ。"
   ]
  },
  {
   "cell_type": "code",
   "execution_count": 38,
   "id": "60a0e2f8-7ac0-4ce5-95c1-9e19156fba11",
   "metadata": {},
   "outputs": [
    {
     "name": "stdout",
     "output_type": "stream",
     "text": [
      "--2025-09-11 00:46:26--  https://nlp100.github.io/2025/_downloads/2ed3eac2611f4363de406df0a49805ae/popular-names.txt\n",
      "nlp100.github.io (nlp100.github.io) をDNSに問いあわせています... 185.199.111.153, 185.199.109.153, 185.199.108.153, ...\n",
      "nlp100.github.io (nlp100.github.io)|185.199.111.153|:443 に接続しています... 接続しました。\n",
      "HTTP による接続要求を送信しました、応答を待っています... 200 OK\n",
      "長さ: 57806 (56K) [text/plain]\n",
      "`popular-names.txt' に保存中\n",
      "\n",
      "popular-names.txt   100%[===================>]  56.45K  --.-KB/s 時間 0.01s      \n",
      "\n",
      "2025-09-11 00:46:26 (4.50 MB/s) - `popular-names.txt' へ保存完了 [57806/57806]\n",
      "\n"
     ]
    }
   ],
   "source": [
    "! wget https://nlp100.github.io/2025/_downloads/2ed3eac2611f4363de406df0a49805ae/popular-names.txt"
   ]
  },
  {
   "cell_type": "markdown",
   "id": "2eeb1e74-6d0d-4dd0-a0ed-c9ab1d0c4015",
   "metadata": {},
   "source": [
    "# 10. 行数のカウント\n",
    "ファイルの行数をカウントせよ。確認にはwcコマンドを用いよ。"
   ]
  },
  {
   "cell_type": "code",
   "execution_count": 39,
   "id": "7240e817-7bad-4f32-aa67-0415e0d71a8f",
   "metadata": {},
   "outputs": [
    {
     "name": "stdout",
     "output_type": "stream",
     "text": [
      "2780\n"
     ]
    }
   ],
   "source": [
    "count = 0\n",
    "\n",
    "with open(\"popular-names.txt\") as f:\n",
    "    for _ in f:\n",
    "        count += 1\n",
    "print(count)"
   ]
  },
  {
   "cell_type": "code",
   "execution_count": 5,
   "id": "25503e9e-bd9d-4863-ba70-cae435461280",
   "metadata": {},
   "outputs": [
    {
     "name": "stdout",
     "output_type": "stream",
     "text": [
      "    2780 popular-names.txt\n"
     ]
    }
   ],
   "source": [
    "! wc -l popular-names.txt"
   ]
  },
  {
   "cell_type": "markdown",
   "id": "95338b38-5e53-4875-81ad-65247013818a",
   "metadata": {},
   "source": [
    "# 11. 先頭からN行を出力\n",
    "ファイルの先頭N行だけを表示せよ。例えば、N=10として先頭10行を表示せよ。確認にはheadコマンドを用いよ。"
   ]
  },
  {
   "cell_type": "code",
   "execution_count": 11,
   "id": "b6dfadbf-da4d-4b29-903a-ad941faa855a",
   "metadata": {},
   "outputs": [
    {
     "name": "stdout",
     "output_type": "stream",
     "text": [
      "Mary\tF\t7065\t1880\n",
      "Anna\tF\t2604\t1880\n",
      "Emma\tF\t2003\t1880\n",
      "Elizabeth\tF\t1939\t1880\n",
      "Minnie\tF\t1746\t1880\n",
      "Margaret\tF\t1578\t1880\n",
      "Ida\tF\t1472\t1880\n",
      "Alice\tF\t1414\t1880\n",
      "Bertha\tF\t1320\t1880\n",
      "Sarah\tF\t1288\t1880\n",
      "John\tM\t9655\t1880\n"
     ]
    }
   ],
   "source": [
    "with open(\"popular-names.txt\") as f:\n",
    "    for i in range(11):\n",
    "        print(f.readline().strip())"
   ]
  },
  {
   "cell_type": "code",
   "execution_count": 12,
   "id": "cb68df0e-2fcc-4dbd-a30d-2bd777b94b39",
   "metadata": {},
   "outputs": [
    {
     "name": "stdout",
     "output_type": "stream",
     "text": [
      "Mary\tF\t7065\t1880\n",
      "Anna\tF\t2604\t1880\n",
      "Emma\tF\t2003\t1880\n",
      "Elizabeth\tF\t1939\t1880\n",
      "Minnie\tF\t1746\t1880\n",
      "Margaret\tF\t1578\t1880\n",
      "Ida\tF\t1472\t1880\n",
      "Alice\tF\t1414\t1880\n",
      "Bertha\tF\t1320\t1880\n",
      "Sarah\tF\t1288\t1880\n"
     ]
    }
   ],
   "source": [
    "! head -10 \"popular-names.txt\""
   ]
  },
  {
   "cell_type": "markdown",
   "id": "ca558ca5-d584-4d92-afac-02f443afe2be",
   "metadata": {},
   "source": [
    "# 12. 末尾のN行を出力\n",
    "ファイルの末尾N行だけを表示せよ。例えば、N=10として末尾10行を表示せよ。確認にはtailコマンドを用いよ。"
   ]
  },
  {
   "cell_type": "code",
   "execution_count": 15,
   "id": "99df2e21-4b1c-4933-b7f6-468f0fb89b09",
   "metadata": {},
   "outputs": [
    {
     "name": "stdout",
     "output_type": "stream",
     "text": [
      "Liam\tM\t19837\t2018\n",
      "Noah\tM\t18267\t2018\n",
      "William\tM\t14516\t2018\n",
      "James\tM\t13525\t2018\n",
      "Oliver\tM\t13389\t2018\n",
      "Benjamin\tM\t13381\t2018\n",
      "Elijah\tM\t12886\t2018\n",
      "Lucas\tM\t12585\t2018\n",
      "Mason\tM\t12435\t2018\n",
      "Logan\tM\t12352\t2018\n"
     ]
    }
   ],
   "source": [
    "with open(\"popular-names.txt\") as f:\n",
    "    lines = f.readlines()\n",
    "    for line in lines[-10:]:\n",
    "        print(line, end=\"\")"
   ]
  },
  {
   "cell_type": "code",
   "execution_count": 16,
   "id": "902a813a-ac81-4381-98dc-6eda2ec34819",
   "metadata": {},
   "outputs": [
    {
     "name": "stdout",
     "output_type": "stream",
     "text": [
      "Liam\tM\t19837\t2018\n",
      "Noah\tM\t18267\t2018\n",
      "William\tM\t14516\t2018\n",
      "James\tM\t13525\t2018\n",
      "Oliver\tM\t13389\t2018\n",
      "Benjamin\tM\t13381\t2018\n",
      "Elijah\tM\t12886\t2018\n",
      "Lucas\tM\t12585\t2018\n",
      "Mason\tM\t12435\t2018\n",
      "Logan\tM\t12352\t2018\n"
     ]
    }
   ],
   "source": [
    "! tail -10 \"popular-names.txt\""
   ]
  },
  {
   "cell_type": "markdown",
   "id": "f222a2f3-7989-4a59-aadc-378d45c3cbf9",
   "metadata": {},
   "source": [
    "# 13. タブをスペースに置換\n",
    "ファイルの先頭10行に対して、タブ1文字につきスペース1文字に置換して出力せよ。確認にはsedコマンド、trコマンド、もしくはexpandコマンドなどを用いよ。"
   ]
  },
  {
   "cell_type": "code",
   "execution_count": 26,
   "id": "1cba8eaf-295d-4c78-a3c0-4292eb815492",
   "metadata": {},
   "outputs": [
    {
     "name": "stdout",
     "output_type": "stream",
     "text": [
      "Mary F 7065 1880\n",
      "Anna F 2604 1880\n",
      "Emma F 2003 1880\n",
      "Elizabeth F 1939 1880\n",
      "Minnie F 1746 1880\n",
      "Margaret F 1578 1880\n",
      "Ida F 1472 1880\n",
      "Alice F 1414 1880\n",
      "Bertha F 1320 1880\n",
      "Sarah F 1288 1880\n"
     ]
    }
   ],
   "source": [
    "with open(\"popular-names.txt\") as f:\n",
    "    lines = f.readlines()\n",
    "    for line in lines[:10]:\n",
    "        new_line = line.replace(\"\\t\",\" \")\n",
    "        print(new_line,end=\"\")"
   ]
  },
  {
   "cell_type": "code",
   "execution_count": 31,
   "id": "4caa7499-04e1-4f72-a896-6d5e1616af17",
   "metadata": {},
   "outputs": [
    {
     "name": "stdout",
     "output_type": "stream",
     "text": [
      "Mary F 7065 1880\n",
      "Anna F 2604 1880\n",
      "Emma F 2003 1880\n",
      "Elizabeth F 1939 1880\n",
      "Minnie F 1746 1880\n",
      "Margaret F 1578 1880\n",
      "Ida F 1472 1880\n",
      "Alice F 1414 1880\n",
      "Bertha F 1320 1880\n",
      "Sarah F 1288 1880\n"
     ]
    }
   ],
   "source": [
    "! head -n 10 popular-names.txt | sed 's/\\t/ /g'"
   ]
  },
  {
   "cell_type": "code",
   "execution_count": 29,
   "id": "905d6a9c-8e12-42a5-9380-39ee4a5386d4",
   "metadata": {},
   "outputs": [
    {
     "name": "stdout",
     "output_type": "stream",
     "text": [
      "Mary F 7065 1880\n",
      "Anna F 2604 1880\n",
      "Emma F 2003 1880\n",
      "Elizabeth F 1939 1880\n",
      "Minnie F 1746 1880\n",
      "Margaret F 1578 1880\n",
      "Ida F 1472 1880\n",
      "Alice F 1414 1880\n",
      "Bertha F 1320 1880\n",
      "Sarah F 1288 1880\n"
     ]
    }
   ],
   "source": [
    "! head -n 10 popular-names.txt | tr '\\t' ' '"
   ]
  },
  {
   "cell_type": "code",
   "execution_count": 51,
   "id": "51d96bc7-b53a-4227-ab4c-2f06155edc24",
   "metadata": {},
   "outputs": [
    {
     "name": "stdout",
     "output_type": "stream",
     "text": [
      "Mary    F       7065    1880\n",
      "Anna    F       2604    1880\n",
      "Emma    F       2003    1880\n",
      "Elizabeth       F       1939    1880\n",
      "Minnie  F       1746    1880\n",
      "Margaret        F       1578    1880\n",
      "Ida     F       1472    1880\n",
      "Alice   F       1414    1880\n",
      "Bertha  F       1320    1880\n",
      "Sarah   F       1288    1880\n"
     ]
    }
   ],
   "source": [
    "! head -n 10 popular-names.txt | expand"
   ]
  },
  {
   "cell_type": "markdown",
   "id": "951fa366-e0e5-49d1-8fcd-4cc3ea34eb93",
   "metadata": {},
   "source": [
    "# 14. 1列目を出力\n",
    "ファイルの先頭10行に対して、各行の1列目だけを抜き出して表示せよ。確認にはcutコマンドなどを用いよ。"
   ]
  },
  {
   "cell_type": "code",
   "execution_count": 42,
   "id": "602be550-7468-436e-9725-dce4bdced58d",
   "metadata": {},
   "outputs": [
    {
     "name": "stdout",
     "output_type": "stream",
     "text": [
      "Mary\n",
      "Anna\n",
      "Emma\n",
      "Elizabeth\n",
      "Minnie\n",
      "Margaret\n",
      "Ida\n",
      "Alice\n",
      "Bertha\n",
      "Sarah\n"
     ]
    }
   ],
   "source": [
    "with open(\"popular-names.txt\") as f:\n",
    "    lines = f.readlines()\n",
    "    for line in lines[:10]:\n",
    "        cols = line.strip().split(\"\\t\")\n",
    "        print(cols[0])"
   ]
  },
  {
   "cell_type": "code",
   "execution_count": 50,
   "id": "1bebc7db-32c6-4824-9f53-970c85d55a62",
   "metadata": {},
   "outputs": [
    {
     "name": "stdout",
     "output_type": "stream",
     "text": [
      "Mary\n",
      "Anna\n",
      "Emma\n",
      "Elizabeth\n",
      "Minnie\n",
      "Margaret\n",
      "Ida\n",
      "Alice\n",
      "Bertha\n",
      "Sarah\n"
     ]
    }
   ],
   "source": [
    "! head -n 10 popular-names.txt | cut -f1"
   ]
  },
  {
   "cell_type": "markdown",
   "id": "c0878684-d0ea-401c-8225-8a2c9765b5c3",
   "metadata": {},
   "source": [
    "# 15. ファイルをN分割する\n",
    "ファイルを行単位でN分割し、別のファイルに格納せよ。例えば、N=10としてファイルを10分割せよ。同様の処理をsplitコマンドで実現せよ。"
   ]
  },
  {
   "cell_type": "code",
   "execution_count": null,
   "id": "4bf81410-6f63-434b-bd84-82396346ccf9",
   "metadata": {},
   "outputs": [],
   "source": []
  },
  {
   "cell_type": "markdown",
   "id": "022d3d7b-640a-47a6-ba74-33b34c000c28",
   "metadata": {},
   "source": [
    "# 16. ランダムに各行を並び替える\n",
    "ファイルを行単位でランダムに並び替えよ（注意: 各行の内容は変更せずに並び替えよ）。同様の処理をshufコマンドで実現せよ。"
   ]
  },
  {
   "cell_type": "code",
   "execution_count": null,
   "id": "6a0e47e9-b406-4d08-9643-916958dd96d7",
   "metadata": {},
   "outputs": [],
   "source": []
  },
  {
   "cell_type": "markdown",
   "id": "f7057bd2-d1c4-45de-87ff-1120eee4bc90",
   "metadata": {},
   "source": [
    "# 17. １列目の文字列の異なり\n",
    "1列目の文字列の異なり（文字列の種類）を求めよ。確認にはcut, sort, uniqコマンドを用いよ。"
   ]
  },
  {
   "cell_type": "code",
   "execution_count": null,
   "id": "fd3d2ff8-cdd0-4783-baf3-b8862771f462",
   "metadata": {},
   "outputs": [],
   "source": []
  },
  {
   "cell_type": "markdown",
   "id": "f7647c70-5e45-47ab-b0a9-512f89a127fb",
   "metadata": {},
   "source": [
    "# 18. 各行の1列目の文字列の出現頻度を求め、出現頻度の高い順に並べる\n",
    "1列目の文字列の出現頻度を求め、出現頻度と名前を出現頻度の多い順に並べて表示せよ。確認にはcut, uniq, sortコマンドを用いよ。"
   ]
  },
  {
   "cell_type": "code",
   "execution_count": null,
   "id": "09ab01c8-e48c-4c3c-a6e8-d2f11f95a2a7",
   "metadata": {},
   "outputs": [],
   "source": []
  },
  {
   "cell_type": "markdown",
   "id": "b634029b-b43f-4b12-a6d2-8eeff44f96cc",
   "metadata": {},
   "source": [
    "# 19. 3列目の数値の降順に各行を並び替える\n",
    "3列目の数値の逆順でファイルの各行を整列せよ（注意: 各行の内容は変更せずに並び替えよ）。同様の処理をsortコマンドで実現せよ。"
   ]
  }
 ],
 "metadata": {
  "kernelspec": {
   "display_name": "Python 3 (ipykernel)",
   "language": "python",
   "name": "python3"
  },
  "language_info": {
   "codemirror_mode": {
    "name": "ipython",
    "version": 3
   },
   "file_extension": ".py",
   "mimetype": "text/x-python",
   "name": "python",
   "nbconvert_exporter": "python",
   "pygments_lexer": "ipython3",
   "version": "3.10.5"
  }
 },
 "nbformat": 4,
 "nbformat_minor": 5
}
